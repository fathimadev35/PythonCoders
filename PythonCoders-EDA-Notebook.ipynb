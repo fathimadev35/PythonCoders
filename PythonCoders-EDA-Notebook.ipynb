{
 "cells": [
  {
   "cell_type": "code",
   "execution_count": 4,
   "id": "0996b587",
   "metadata": {},
   "outputs": [],
   "source": [
    "# Importing Libraries\n",
    "import pandas as pd\n",
    "import numpy as np\n",
    "import seaborn as sb\n",
    "import matplotlib.pyplot as plt"
   ]
  },
  {
   "cell_type": "code",
   "execution_count": 59,
   "id": "b129fbec",
   "metadata": {},
   "outputs": [],
   "source": [
    "# Loading Dataset\n",
    "df = pd.read_excel('HospitalDatabase.xlsx', sheet_name=3)"
   ]
  },
  {
   "cell_type": "markdown",
   "id": "aa53f1eb",
   "metadata": {},
   "source": [
    "# Viewing Data"
   ]
  },
  {
   "cell_type": "code",
   "execution_count": 3,
   "id": "54e84cff",
   "metadata": {},
   "outputs": [
    {
     "data": {
      "text/html": [
       "<div>\n",
       "<style scoped>\n",
       "    .dataframe tbody tr th:only-of-type {\n",
       "        vertical-align: middle;\n",
       "    }\n",
       "\n",
       "    .dataframe tbody tr th {\n",
       "        vertical-align: top;\n",
       "    }\n",
       "\n",
       "    .dataframe thead th {\n",
       "        text-align: right;\n",
       "    }\n",
       "</style>\n",
       "<table border=\"1\" class=\"dataframe\">\n",
       "  <thead>\n",
       "    <tr style=\"text-align: right;\">\n",
       "      <th></th>\n",
       "      <th>AdmissionID</th>\n",
       "      <th>PatientID</th>\n",
       "      <th>AdmissionDate</th>\n",
       "      <th>DischargeDate</th>\n",
       "      <th>DischargeDisposition</th>\n",
       "      <th>Service</th>\n",
       "      <th>PrimaryDiagnosis</th>\n",
       "      <th>ExpectedLOS</th>\n",
       "      <th>ExpectedMortality</th>\n",
       "      <th>ReadmissionFlag</th>\n",
       "      <th>DaysToReadmission</th>\n",
       "      <th>EDVisitAfterDischargeFlag</th>\n",
       "    </tr>\n",
       "  </thead>\n",
       "  <tbody>\n",
       "    <tr>\n",
       "      <th>0</th>\n",
       "      <td>389</td>\n",
       "      <td>1</td>\n",
       "      <td>2018-01-01</td>\n",
       "      <td>2018-01-04 19:59:31.391</td>\n",
       "      <td>Home</td>\n",
       "      <td>Hospitalist</td>\n",
       "      <td>Kidney Failure</td>\n",
       "      <td>6.717771</td>\n",
       "      <td>0.010046</td>\n",
       "      <td>NaN</td>\n",
       "      <td>NaN</td>\n",
       "      <td>NaN</td>\n",
       "    </tr>\n",
       "    <tr>\n",
       "      <th>1</th>\n",
       "      <td>635</td>\n",
       "      <td>2</td>\n",
       "      <td>2018-01-01</td>\n",
       "      <td>2018-01-04 21:28:51.898</td>\n",
       "      <td>Home</td>\n",
       "      <td>General Medicine</td>\n",
       "      <td>Flu</td>\n",
       "      <td>3.825969</td>\n",
       "      <td>0.604562</td>\n",
       "      <td>1.0</td>\n",
       "      <td>2.0</td>\n",
       "      <td>1.0</td>\n",
       "    </tr>\n",
       "    <tr>\n",
       "      <th>2</th>\n",
       "      <td>606</td>\n",
       "      <td>3</td>\n",
       "      <td>2018-01-01</td>\n",
       "      <td>2018-01-04 22:28:23.672</td>\n",
       "      <td>Home</td>\n",
       "      <td>General Medicine</td>\n",
       "      <td>Flu</td>\n",
       "      <td>3.382493</td>\n",
       "      <td>0.266137</td>\n",
       "      <td>1.0</td>\n",
       "      <td>3.0</td>\n",
       "      <td>1.0</td>\n",
       "    </tr>\n",
       "    <tr>\n",
       "      <th>3</th>\n",
       "      <td>587</td>\n",
       "      <td>5</td>\n",
       "      <td>2018-01-01</td>\n",
       "      <td>2018-01-05 05:47:04.933</td>\n",
       "      <td>Home</td>\n",
       "      <td>General Medicine</td>\n",
       "      <td>Flu</td>\n",
       "      <td>3.763352</td>\n",
       "      <td>0.307527</td>\n",
       "      <td>1.0</td>\n",
       "      <td>4.0</td>\n",
       "      <td>1.0</td>\n",
       "    </tr>\n",
       "    <tr>\n",
       "      <th>4</th>\n",
       "      <td>640</td>\n",
       "      <td>6</td>\n",
       "      <td>2018-01-01</td>\n",
       "      <td>2018-01-05 14:18:30.029</td>\n",
       "      <td>Home</td>\n",
       "      <td>ICU</td>\n",
       "      <td>Heart Failure</td>\n",
       "      <td>13.650953</td>\n",
       "      <td>0.408898</td>\n",
       "      <td>NaN</td>\n",
       "      <td>NaN</td>\n",
       "      <td>NaN</td>\n",
       "    </tr>\n",
       "  </tbody>\n",
       "</table>\n",
       "</div>"
      ],
      "text/plain": [
       "   AdmissionID  PatientID AdmissionDate           DischargeDate  \\\n",
       "0          389          1    2018-01-01 2018-01-04 19:59:31.391   \n",
       "1          635          2    2018-01-01 2018-01-04 21:28:51.898   \n",
       "2          606          3    2018-01-01 2018-01-04 22:28:23.672   \n",
       "3          587          5    2018-01-01 2018-01-05 05:47:04.933   \n",
       "4          640          6    2018-01-01 2018-01-05 14:18:30.029   \n",
       "\n",
       "  DischargeDisposition           Service PrimaryDiagnosis  ExpectedLOS  \\\n",
       "0                 Home       Hospitalist   Kidney Failure     6.717771   \n",
       "1                 Home  General Medicine              Flu     3.825969   \n",
       "2                 Home  General Medicine              Flu     3.382493   \n",
       "3                 Home  General Medicine              Flu     3.763352   \n",
       "4                 Home               ICU    Heart Failure    13.650953   \n",
       "\n",
       "   ExpectedMortality  ReadmissionFlag  DaysToReadmission  \\\n",
       "0           0.010046              NaN                NaN   \n",
       "1           0.604562              1.0                2.0   \n",
       "2           0.266137              1.0                3.0   \n",
       "3           0.307527              1.0                4.0   \n",
       "4           0.408898              NaN                NaN   \n",
       "\n",
       "   EDVisitAfterDischargeFlag  \n",
       "0                        NaN  \n",
       "1                        1.0  \n",
       "2                        1.0  \n",
       "3                        1.0  \n",
       "4                        NaN  "
      ]
     },
     "execution_count": 3,
     "metadata": {},
     "output_type": "execute_result"
    }
   ],
   "source": [
    "# View Data\n",
    "df.head()"
   ]
  },
  {
   "cell_type": "markdown",
   "id": "1f488359",
   "metadata": {},
   "source": [
    "# Basic information"
   ]
  },
  {
   "cell_type": "code",
   "execution_count": 4,
   "id": "bfe101bc",
   "metadata": {},
   "outputs": [
    {
     "name": "stdout",
     "output_type": "stream",
     "text": [
      "<class 'pandas.core.frame.DataFrame'>\n",
      "RangeIndex: 720 entries, 0 to 719\n",
      "Data columns (total 12 columns):\n",
      " #   Column                     Non-Null Count  Dtype         \n",
      "---  ------                     --------------  -----         \n",
      " 0   AdmissionID                720 non-null    int64         \n",
      " 1   PatientID                  720 non-null    int64         \n",
      " 2   AdmissionDate              720 non-null    datetime64[ns]\n",
      " 3   DischargeDate              720 non-null    datetime64[ns]\n",
      " 4   DischargeDisposition       720 non-null    object        \n",
      " 5   Service                    720 non-null    object        \n",
      " 6   PrimaryDiagnosis           720 non-null    object        \n",
      " 7   ExpectedLOS                720 non-null    float64       \n",
      " 8   ExpectedMortality          720 non-null    float64       \n",
      " 9   ReadmissionFlag            194 non-null    float64       \n",
      " 10  DaysToReadmission          194 non-null    float64       \n",
      " 11  EDVisitAfterDischargeFlag  341 non-null    float64       \n",
      "dtypes: datetime64[ns](2), float64(5), int64(2), object(3)\n",
      "memory usage: 67.6+ KB\n"
     ]
    }
   ],
   "source": [
    "#Basic information\n",
    "df.info()"
   ]
  },
  {
   "cell_type": "markdown",
   "id": "72512330",
   "metadata": {},
   "source": [
    "# Describe the data"
   ]
  },
  {
   "cell_type": "code",
   "execution_count": 5,
   "id": "881c29be",
   "metadata": {},
   "outputs": [
    {
     "data": {
      "text/html": [
       "<div>\n",
       "<style scoped>\n",
       "    .dataframe tbody tr th:only-of-type {\n",
       "        vertical-align: middle;\n",
       "    }\n",
       "\n",
       "    .dataframe tbody tr th {\n",
       "        vertical-align: top;\n",
       "    }\n",
       "\n",
       "    .dataframe thead th {\n",
       "        text-align: right;\n",
       "    }\n",
       "</style>\n",
       "<table border=\"1\" class=\"dataframe\">\n",
       "  <thead>\n",
       "    <tr style=\"text-align: right;\">\n",
       "      <th></th>\n",
       "      <th>AdmissionID</th>\n",
       "      <th>PatientID</th>\n",
       "      <th>ExpectedLOS</th>\n",
       "      <th>ExpectedMortality</th>\n",
       "      <th>ReadmissionFlag</th>\n",
       "      <th>DaysToReadmission</th>\n",
       "      <th>EDVisitAfterDischargeFlag</th>\n",
       "    </tr>\n",
       "  </thead>\n",
       "  <tbody>\n",
       "    <tr>\n",
       "      <th>count</th>\n",
       "      <td>720.000000</td>\n",
       "      <td>720.000000</td>\n",
       "      <td>720.000000</td>\n",
       "      <td>720.000000</td>\n",
       "      <td>194.0</td>\n",
       "      <td>194.000000</td>\n",
       "      <td>341.0</td>\n",
       "    </tr>\n",
       "    <tr>\n",
       "      <th>mean</th>\n",
       "      <td>360.500000</td>\n",
       "      <td>366.158333</td>\n",
       "      <td>8.824589</td>\n",
       "      <td>0.338063</td>\n",
       "      <td>1.0</td>\n",
       "      <td>5.360825</td>\n",
       "      <td>1.0</td>\n",
       "    </tr>\n",
       "    <tr>\n",
       "      <th>std</th>\n",
       "      <td>207.990384</td>\n",
       "      <td>218.223501</td>\n",
       "      <td>4.034421</td>\n",
       "      <td>0.238868</td>\n",
       "      <td>0.0</td>\n",
       "      <td>3.866116</td>\n",
       "      <td>0.0</td>\n",
       "    </tr>\n",
       "    <tr>\n",
       "      <th>min</th>\n",
       "      <td>1.000000</td>\n",
       "      <td>1.000000</td>\n",
       "      <td>2.012974</td>\n",
       "      <td>0.000006</td>\n",
       "      <td>1.0</td>\n",
       "      <td>1.000000</td>\n",
       "      <td>1.0</td>\n",
       "    </tr>\n",
       "    <tr>\n",
       "      <th>25%</th>\n",
       "      <td>180.750000</td>\n",
       "      <td>175.750000</td>\n",
       "      <td>5.138501</td>\n",
       "      <td>0.139771</td>\n",
       "      <td>1.0</td>\n",
       "      <td>3.000000</td>\n",
       "      <td>1.0</td>\n",
       "    </tr>\n",
       "    <tr>\n",
       "      <th>50%</th>\n",
       "      <td>360.500000</td>\n",
       "      <td>353.500000</td>\n",
       "      <td>8.633825</td>\n",
       "      <td>0.297242</td>\n",
       "      <td>1.0</td>\n",
       "      <td>5.000000</td>\n",
       "      <td>1.0</td>\n",
       "    </tr>\n",
       "    <tr>\n",
       "      <th>75%</th>\n",
       "      <td>540.250000</td>\n",
       "      <td>557.250000</td>\n",
       "      <td>12.107623</td>\n",
       "      <td>0.496387</td>\n",
       "      <td>1.0</td>\n",
       "      <td>5.000000</td>\n",
       "      <td>1.0</td>\n",
       "    </tr>\n",
       "    <tr>\n",
       "      <th>max</th>\n",
       "      <td>720.000000</td>\n",
       "      <td>742.000000</td>\n",
       "      <td>16.998213</td>\n",
       "      <td>0.989945</td>\n",
       "      <td>1.0</td>\n",
       "      <td>19.000000</td>\n",
       "      <td>1.0</td>\n",
       "    </tr>\n",
       "  </tbody>\n",
       "</table>\n",
       "</div>"
      ],
      "text/plain": [
       "       AdmissionID   PatientID  ExpectedLOS  ExpectedMortality  \\\n",
       "count   720.000000  720.000000   720.000000         720.000000   \n",
       "mean    360.500000  366.158333     8.824589           0.338063   \n",
       "std     207.990384  218.223501     4.034421           0.238868   \n",
       "min       1.000000    1.000000     2.012974           0.000006   \n",
       "25%     180.750000  175.750000     5.138501           0.139771   \n",
       "50%     360.500000  353.500000     8.633825           0.297242   \n",
       "75%     540.250000  557.250000    12.107623           0.496387   \n",
       "max     720.000000  742.000000    16.998213           0.989945   \n",
       "\n",
       "       ReadmissionFlag  DaysToReadmission  EDVisitAfterDischargeFlag  \n",
       "count            194.0         194.000000                      341.0  \n",
       "mean               1.0           5.360825                        1.0  \n",
       "std                0.0           3.866116                        0.0  \n",
       "min                1.0           1.000000                        1.0  \n",
       "25%                1.0           3.000000                        1.0  \n",
       "50%                1.0           5.000000                        1.0  \n",
       "75%                1.0           5.000000                        1.0  \n",
       "max                1.0          19.000000                        1.0  "
      ]
     },
     "execution_count": 5,
     "metadata": {},
     "output_type": "execute_result"
    }
   ],
   "source": [
    "df.describe()"
   ]
  },
  {
   "cell_type": "markdown",
   "id": "56adfd1c",
   "metadata": {},
   "source": [
    "# Find the duplicates"
   ]
  },
  {
   "cell_type": "code",
   "execution_count": 6,
   "id": "6561ad25",
   "metadata": {},
   "outputs": [
    {
     "data": {
      "text/plain": [
       "0"
      ]
     },
     "execution_count": 6,
     "metadata": {},
     "output_type": "execute_result"
    }
   ],
   "source": [
    "#Find the duplicates\n",
    "df.duplicated().sum()"
   ]
  },
  {
   "cell_type": "markdown",
   "id": "0684daf8",
   "metadata": {},
   "source": [
    "# Return a Series containing counts of unique values"
   ]
  },
  {
   "cell_type": "code",
   "execution_count": 7,
   "id": "729b5210",
   "metadata": {},
   "outputs": [
    {
     "data": {
      "text/plain": [
       "Pneumonia             177\n",
       "Flu                    80\n",
       "Heart Failure          78\n",
       "Stroke                 68\n",
       "Diabetes               64\n",
       "Hypertension           50\n",
       "AMI                    48\n",
       "Laceration             29\n",
       "Hip Fracture           23\n",
       "Knee Replacement       23\n",
       "Kidney Failure         20\n",
       "Fever                  19\n",
       "Migraine               12\n",
       "Afib                   11\n",
       "Broken Leg              9\n",
       "Pain                    7\n",
       "Spinal Cord Injury      2\n",
       "Name: PrimaryDiagnosis, dtype: int64"
      ]
     },
     "execution_count": 7,
     "metadata": {},
     "output_type": "execute_result"
    }
   ],
   "source": [
    "df[\"PrimaryDiagnosis\"].value_counts()"
   ]
  },
  {
   "cell_type": "markdown",
   "id": "4a5e5b2d",
   "metadata": {},
   "source": [
    "# Unique values"
   ]
  },
  {
   "cell_type": "code",
   "execution_count": 9,
   "id": "6ef919db",
   "metadata": {},
   "outputs": [
    {
     "data": {
      "text/plain": [
       "array(['Hospitalist', 'General Medicine', 'ICU', 'Cardiology',\n",
       "       'Neurology', 'Orthopeadics'], dtype=object)"
      ]
     },
     "execution_count": 9,
     "metadata": {},
     "output_type": "execute_result"
    }
   ],
   "source": [
    "#unique values for Service Column\n",
    "df['Service'].unique()"
   ]
  },
  {
   "cell_type": "code",
   "execution_count": 11,
   "id": "c215b657",
   "metadata": {},
   "outputs": [
    {
     "data": {
      "text/plain": [
       "array(['Kidney Failure', 'Flu', 'Heart Failure', 'Pneumonia', 'AMI',\n",
       "       'Stroke', 'Hypertension', 'Knee Replacement', 'Diabetes', 'Afib',\n",
       "       'Fever', 'Pain', 'Hip Fracture', 'Migraine', 'Laceration',\n",
       "       'Broken Leg', 'Spinal Cord Injury'], dtype=object)"
      ]
     },
     "execution_count": 11,
     "metadata": {},
     "output_type": "execute_result"
    }
   ],
   "source": [
    "# Unique values for Primary Diagnosis Column\n",
    "df['PrimaryDiagnosis'].unique()"
   ]
  },
  {
   "cell_type": "code",
   "execution_count": 12,
   "id": "894acb78",
   "metadata": {},
   "outputs": [
    {
     "data": {
      "text/plain": [
       "array(['Home', 'Expired', 'Transfer'], dtype=object)"
      ]
     },
     "execution_count": 12,
     "metadata": {},
     "output_type": "execute_result"
    }
   ],
   "source": [
    "# Unique values for DischargeDisposition Column\n",
    "df['DischargeDisposition'].unique()"
   ]
  },
  {
   "cell_type": "markdown",
   "id": "8d446a51",
   "metadata": {},
   "source": [
    "# Plot the unique values"
   ]
  },
  {
   "cell_type": "code",
   "execution_count": 5,
   "id": "2d00add5",
   "metadata": {},
   "outputs": [
    {
     "name": "stderr",
     "output_type": "stream",
     "text": [
      "C:\\Users\\madha\\anaconda3\\lib\\site-packages\\seaborn\\_decorators.py:36: FutureWarning: Pass the following variable as a keyword arg: x. From version 0.12, the only valid positional argument will be `data`, and passing other arguments without an explicit keyword will result in an error or misinterpretation.\n",
      "  warnings.warn(\n"
     ]
    },
    {
     "ename": "AttributeError",
     "evalue": "'AxesSubplot' object has no attribute 'unique'",
     "output_type": "error",
     "traceback": [
      "\u001b[1;31m---------------------------------------------------------------------------\u001b[0m",
      "\u001b[1;31mAttributeError\u001b[0m                            Traceback (most recent call last)",
      "\u001b[1;32m~\\AppData\\Local\\Temp\\ipykernel_19076\\2534503072.py\u001b[0m in \u001b[0;36m<module>\u001b[1;34m\u001b[0m\n\u001b[1;32m----> 1\u001b[1;33m \u001b[0msb\u001b[0m\u001b[1;33m.\u001b[0m\u001b[0mcountplot\u001b[0m\u001b[1;33m(\u001b[0m\u001b[0mdf\u001b[0m\u001b[1;33m[\u001b[0m\u001b[1;34m'Service'\u001b[0m\u001b[1;33m]\u001b[0m\u001b[1;33m)\u001b[0m\u001b[1;33m.\u001b[0m\u001b[0munique\u001b[0m\u001b[1;33m(\u001b[0m\u001b[1;33m)\u001b[0m\u001b[1;33m\u001b[0m\u001b[1;33m\u001b[0m\u001b[0m\n\u001b[0m",
      "\u001b[1;31mAttributeError\u001b[0m: 'AxesSubplot' object has no attribute 'unique'"
     ]
    },
    {
     "data": {
      "image/png": "[encoded data removed]",
      "text/plain": [
       "<Figure size 640x480 with 1 Axes>"
      ]
     },
     "metadata": {},
     "output_type": "display_data"
    }
   ],
   "source": [
    "sb.countplot(df['Service']).unique()"
   ]
  },
  {
   "cell_type": "markdown",
   "id": "49bd6891",
   "metadata": {},
   "source": [
    "# Find null value count for columns"
   ]
  },
  {
   "cell_type": "code",
   "execution_count": 14,
   "id": "a8184b1f",
   "metadata": {},
   "outputs": [
    {
     "data": {
      "text/plain": [
       "AdmissionID                    0\n",
       "PatientID                      0\n",
       "AdmissionDate                  0\n",
       "DischargeDate                  0\n",
       "DischargeDisposition           0\n",
       "Service                        0\n",
       "PrimaryDiagnosis               0\n",
       "ExpectedLOS                    0\n",
       "ExpectedMortality              0\n",
       "ReadmissionFlag              526\n",
       "DaysToReadmission            526\n",
       "EDVisitAfterDischargeFlag    379\n",
       "dtype: int64"
      ]
     },
     "execution_count": 14,
     "metadata": {},
     "output_type": "execute_result"
    }
   ],
   "source": [
    "df.isnull().sum()"
   ]
  },
  {
   "cell_type": "markdown",
   "id": "55d90ef6",
   "metadata": {},
   "source": [
    "# Replace null values"
   ]
  },
  {
   "cell_type": "code",
   "execution_count": 15,
   "id": "a1832eea",
   "metadata": {},
   "outputs": [
    {
     "data": {
      "text/plain": [
       "AdmissionID                  0\n",
       "PatientID                    0\n",
       "AdmissionDate                0\n",
       "DischargeDate                0\n",
       "DischargeDisposition         0\n",
       "Service                      0\n",
       "PrimaryDiagnosis             0\n",
       "ExpectedLOS                  0\n",
       "ExpectedMortality            0\n",
       "ReadmissionFlag              0\n",
       "DaysToReadmission            0\n",
       "EDVisitAfterDischargeFlag    0\n",
       "dtype: int64"
      ]
     },
     "execution_count": 15,
     "metadata": {},
     "output_type": "execute_result"
    }
   ],
   "source": [
    "#Replace null values\n",
    "df.replace(np.nan,'0',inplace = True)\n",
    "\n",
    "#Check the changes now\n",
    "df.isnull().sum()"
   ]
  },
  {
   "cell_type": "markdown",
   "id": "e9b2d6a9",
   "metadata": {},
   "source": [
    "# Filter data"
   ]
  },
  {
   "cell_type": "code",
   "execution_count": 16,
   "id": "68f1fec3",
   "metadata": {},
   "outputs": [
    {
     "data": {
      "text/html": [
       "<div>\n",
       "<style scoped>\n",
       "    .dataframe tbody tr th:only-of-type {\n",
       "        vertical-align: middle;\n",
       "    }\n",
       "\n",
       "    .dataframe tbody tr th {\n",
       "        vertical-align: top;\n",
       "    }\n",
       "\n",
       "    .dataframe thead th {\n",
       "        text-align: right;\n",
       "    }\n",
       "</style>\n",
       "<table border=\"1\" class=\"dataframe\">\n",
       "  <thead>\n",
       "    <tr style=\"text-align: right;\">\n",
       "      <th></th>\n",
       "      <th>AdmissionID</th>\n",
       "      <th>PatientID</th>\n",
       "      <th>AdmissionDate</th>\n",
       "      <th>DischargeDate</th>\n",
       "      <th>DischargeDisposition</th>\n",
       "      <th>Service</th>\n",
       "      <th>PrimaryDiagnosis</th>\n",
       "      <th>ExpectedLOS</th>\n",
       "      <th>ExpectedMortality</th>\n",
       "      <th>ReadmissionFlag</th>\n",
       "      <th>DaysToReadmission</th>\n",
       "      <th>EDVisitAfterDischargeFlag</th>\n",
       "    </tr>\n",
       "  </thead>\n",
       "  <tbody>\n",
       "    <tr>\n",
       "      <th>0</th>\n",
       "      <td>389</td>\n",
       "      <td>1</td>\n",
       "      <td>2018-01-01</td>\n",
       "      <td>2018-01-04 19:59:31.391</td>\n",
       "      <td>Home</td>\n",
       "      <td>Hospitalist</td>\n",
       "      <td>Kidney Failure</td>\n",
       "      <td>6.717771</td>\n",
       "      <td>0.010046</td>\n",
       "      <td>0</td>\n",
       "      <td>0</td>\n",
       "      <td>0</td>\n",
       "    </tr>\n",
       "    <tr>\n",
       "      <th>1</th>\n",
       "      <td>635</td>\n",
       "      <td>2</td>\n",
       "      <td>2018-01-01</td>\n",
       "      <td>2018-01-04 21:28:51.898</td>\n",
       "      <td>Home</td>\n",
       "      <td>General Medicine</td>\n",
       "      <td>Flu</td>\n",
       "      <td>3.825969</td>\n",
       "      <td>0.604562</td>\n",
       "      <td>1.0</td>\n",
       "      <td>2.0</td>\n",
       "      <td>1.0</td>\n",
       "    </tr>\n",
       "    <tr>\n",
       "      <th>2</th>\n",
       "      <td>606</td>\n",
       "      <td>3</td>\n",
       "      <td>2018-01-01</td>\n",
       "      <td>2018-01-04 22:28:23.672</td>\n",
       "      <td>Home</td>\n",
       "      <td>General Medicine</td>\n",
       "      <td>Flu</td>\n",
       "      <td>3.382493</td>\n",
       "      <td>0.266137</td>\n",
       "      <td>1.0</td>\n",
       "      <td>3.0</td>\n",
       "      <td>1.0</td>\n",
       "    </tr>\n",
       "    <tr>\n",
       "      <th>3</th>\n",
       "      <td>587</td>\n",
       "      <td>5</td>\n",
       "      <td>2018-01-01</td>\n",
       "      <td>2018-01-05 05:47:04.933</td>\n",
       "      <td>Home</td>\n",
       "      <td>General Medicine</td>\n",
       "      <td>Flu</td>\n",
       "      <td>3.763352</td>\n",
       "      <td>0.307527</td>\n",
       "      <td>1.0</td>\n",
       "      <td>4.0</td>\n",
       "      <td>1.0</td>\n",
       "    </tr>\n",
       "    <tr>\n",
       "      <th>4</th>\n",
       "      <td>640</td>\n",
       "      <td>6</td>\n",
       "      <td>2018-01-01</td>\n",
       "      <td>2018-01-05 14:18:30.029</td>\n",
       "      <td>Home</td>\n",
       "      <td>ICU</td>\n",
       "      <td>Heart Failure</td>\n",
       "      <td>13.650953</td>\n",
       "      <td>0.408898</td>\n",
       "      <td>0</td>\n",
       "      <td>0</td>\n",
       "      <td>0</td>\n",
       "    </tr>\n",
       "  </tbody>\n",
       "</table>\n",
       "</div>"
      ],
      "text/plain": [
       "   AdmissionID  PatientID AdmissionDate           DischargeDate  \\\n",
       "0          389          1    2018-01-01 2018-01-04 19:59:31.391   \n",
       "1          635          2    2018-01-01 2018-01-04 21:28:51.898   \n",
       "2          606          3    2018-01-01 2018-01-04 22:28:23.672   \n",
       "3          587          5    2018-01-01 2018-01-05 05:47:04.933   \n",
       "4          640          6    2018-01-01 2018-01-05 14:18:30.029   \n",
       "\n",
       "  DischargeDisposition           Service PrimaryDiagnosis  ExpectedLOS  \\\n",
       "0                 Home       Hospitalist   Kidney Failure     6.717771   \n",
       "1                 Home  General Medicine              Flu     3.825969   \n",
       "2                 Home  General Medicine              Flu     3.382493   \n",
       "3                 Home  General Medicine              Flu     3.763352   \n",
       "4                 Home               ICU    Heart Failure    13.650953   \n",
       "\n",
       "   ExpectedMortality ReadmissionFlag DaysToReadmission  \\\n",
       "0           0.010046               0                 0   \n",
       "1           0.604562             1.0               2.0   \n",
       "2           0.266137             1.0               3.0   \n",
       "3           0.307527             1.0               4.0   \n",
       "4           0.408898               0                 0   \n",
       "\n",
       "  EDVisitAfterDischargeFlag  \n",
       "0                         0  \n",
       "1                       1.0  \n",
       "2                       1.0  \n",
       "3                       1.0  \n",
       "4                         0  "
      ]
     },
     "execution_count": 16,
     "metadata": {},
     "output_type": "execute_result"
    }
   ],
   "source": [
    "#Filter data\n",
    "\n",
    "df[df['DischargeDisposition']=='Home'].head()"
   ]
  },
  {
   "cell_type": "markdown",
   "id": "48f25199",
   "metadata": {},
   "source": [
    "# Boxplot"
   ]
  },
  {
   "cell_type": "code",
   "execution_count": 18,
   "id": "184b14d1",
   "metadata": {},
   "outputs": [
    {
     "data": {
      "text/plain": [
       "<AxesSubplot:>"
      ]
     },
     "execution_count": 18,
     "metadata": {},
     "output_type": "execute_result"
    },
    {
     "data": {
      "image/png": "[encoded data removed]",
      "text/plain": [
       "<Figure size 640x480 with 1 Axes>"
      ]
     },
     "metadata": {},
     "output_type": "display_data"
    }
   ],
   "source": [
    "#Boxplot\n",
    "df[['ExpectedLOS']].boxplot()"
   ]
  },
  {
   "cell_type": "markdown",
   "id": "cac2745b",
   "metadata": {},
   "source": [
    "# Correlation"
   ]
  },
  {
   "cell_type": "code",
   "execution_count": 19,
   "id": "face9dbd",
   "metadata": {},
   "outputs": [
    {
     "data": {
      "text/html": [
       "<div>\n",
       "<style scoped>\n",
       "    .dataframe tbody tr th:only-of-type {\n",
       "        vertical-align: middle;\n",
       "    }\n",
       "\n",
       "    .dataframe tbody tr th {\n",
       "        vertical-align: top;\n",
       "    }\n",
       "\n",
       "    .dataframe thead th {\n",
       "        text-align: right;\n",
       "    }\n",
       "</style>\n",
       "<table border=\"1\" class=\"dataframe\">\n",
       "  <thead>\n",
       "    <tr style=\"text-align: right;\">\n",
       "      <th></th>\n",
       "      <th>AdmissionID</th>\n",
       "      <th>PatientID</th>\n",
       "      <th>ExpectedLOS</th>\n",
       "      <th>ExpectedMortality</th>\n",
       "    </tr>\n",
       "  </thead>\n",
       "  <tbody>\n",
       "    <tr>\n",
       "      <th>AdmissionID</th>\n",
       "      <td>1.000000</td>\n",
       "      <td>0.302079</td>\n",
       "      <td>-0.070080</td>\n",
       "      <td>0.034083</td>\n",
       "    </tr>\n",
       "    <tr>\n",
       "      <th>PatientID</th>\n",
       "      <td>0.302079</td>\n",
       "      <td>1.000000</td>\n",
       "      <td>-0.015485</td>\n",
       "      <td>0.008014</td>\n",
       "    </tr>\n",
       "    <tr>\n",
       "      <th>ExpectedLOS</th>\n",
       "      <td>-0.070080</td>\n",
       "      <td>-0.015485</td>\n",
       "      <td>1.000000</td>\n",
       "      <td>0.220725</td>\n",
       "    </tr>\n",
       "    <tr>\n",
       "      <th>ExpectedMortality</th>\n",
       "      <td>0.034083</td>\n",
       "      <td>0.008014</td>\n",
       "      <td>0.220725</td>\n",
       "      <td>1.000000</td>\n",
       "    </tr>\n",
       "  </tbody>\n",
       "</table>\n",
       "</div>"
      ],
      "text/plain": [
       "                   AdmissionID  PatientID  ExpectedLOS  ExpectedMortality\n",
       "AdmissionID           1.000000   0.302079    -0.070080           0.034083\n",
       "PatientID             0.302079   1.000000    -0.015485           0.008014\n",
       "ExpectedLOS          -0.070080  -0.015485     1.000000           0.220725\n",
       "ExpectedMortality     0.034083   0.008014     0.220725           1.000000"
      ]
     },
     "execution_count": 19,
     "metadata": {},
     "output_type": "execute_result"
    }
   ],
   "source": [
    "#Correlation \n",
    "df.corr()"
   ]
  },
  {
   "cell_type": "markdown",
   "id": "25bb768c",
   "metadata": {},
   "source": [
    "# Correlation plot"
   ]
  },
  {
   "cell_type": "code",
   "execution_count": 21,
   "id": "1616a9f3",
   "metadata": {},
   "outputs": [
    {
     "data": {
      "text/plain": [
       "<AxesSubplot:>"
      ]
     },
     "execution_count": 21,
     "metadata": {},
     "output_type": "execute_result"
    },
    {
     "data": {
      "image/png": "[encoded data removed]",
      "text/plain": [
       "<Figure size 640x480 with 2 Axes>"
      ]
     },
     "metadata": {},
     "output_type": "display_data"
    }
   ],
   "source": [
    "#Correlation plot\n",
    "sb.heatmap(df.corr())"
   ]
  },
  {
   "cell_type": "markdown",
   "id": "5b22c44c",
   "metadata": {},
   "source": [
    "# Group By"
   ]
  },
  {
   "cell_type": "code",
   "execution_count": 22,
   "id": "d160d88e",
   "metadata": {},
   "outputs": [
    {
     "data": {
      "text/html": [
       "<div>\n",
       "<style scoped>\n",
       "    .dataframe tbody tr th:only-of-type {\n",
       "        vertical-align: middle;\n",
       "    }\n",
       "\n",
       "    .dataframe tbody tr th {\n",
       "        vertical-align: top;\n",
       "    }\n",
       "\n",
       "    .dataframe thead th {\n",
       "        text-align: right;\n",
       "    }\n",
       "</style>\n",
       "<table border=\"1\" class=\"dataframe\">\n",
       "  <thead>\n",
       "    <tr style=\"text-align: right;\">\n",
       "      <th></th>\n",
       "      <th></th>\n",
       "      <th>AdmissionID</th>\n",
       "      <th>PatientID</th>\n",
       "      <th>ExpectedLOS</th>\n",
       "      <th>ExpectedMortality</th>\n",
       "    </tr>\n",
       "    <tr>\n",
       "      <th>Service</th>\n",
       "      <th>PrimaryDiagnosis</th>\n",
       "      <th></th>\n",
       "      <th></th>\n",
       "      <th></th>\n",
       "      <th></th>\n",
       "    </tr>\n",
       "  </thead>\n",
       "  <tbody>\n",
       "    <tr>\n",
       "      <th rowspan=\"6\" valign=\"top\">Cardiology</th>\n",
       "      <th>AMI</th>\n",
       "      <td>253.125000</td>\n",
       "      <td>388.900000</td>\n",
       "      <td>12.414202</td>\n",
       "      <td>0.222199</td>\n",
       "    </tr>\n",
       "    <tr>\n",
       "      <th>Afib</th>\n",
       "      <td>366.500000</td>\n",
       "      <td>264.300000</td>\n",
       "      <td>13.162920</td>\n",
       "      <td>0.326457</td>\n",
       "    </tr>\n",
       "    <tr>\n",
       "      <th>Broken Leg</th>\n",
       "      <td>258.000000</td>\n",
       "      <td>104.000000</td>\n",
       "      <td>3.911826</td>\n",
       "      <td>0.391856</td>\n",
       "    </tr>\n",
       "    <tr>\n",
       "      <th>Flu</th>\n",
       "      <td>395.500000</td>\n",
       "      <td>112.000000</td>\n",
       "      <td>3.970428</td>\n",
       "      <td>0.223949</td>\n",
       "    </tr>\n",
       "    <tr>\n",
       "      <th>Heart Failure</th>\n",
       "      <td>499.846154</td>\n",
       "      <td>403.051282</td>\n",
       "      <td>13.014044</td>\n",
       "      <td>0.283912</td>\n",
       "    </tr>\n",
       "    <tr>\n",
       "      <th>Kidney Failure</th>\n",
       "      <td>152.000000</td>\n",
       "      <td>101.000000</td>\n",
       "      <td>6.580273</td>\n",
       "      <td>0.573887</td>\n",
       "    </tr>\n",
       "    <tr>\n",
       "      <th rowspan=\"9\" valign=\"top\">General Medicine</th>\n",
       "      <th>Broken Leg</th>\n",
       "      <td>550.000000</td>\n",
       "      <td>651.666667</td>\n",
       "      <td>3.368132</td>\n",
       "      <td>0.292053</td>\n",
       "    </tr>\n",
       "    <tr>\n",
       "      <th>Diabetes</th>\n",
       "      <td>431.921053</td>\n",
       "      <td>548.578947</td>\n",
       "      <td>5.665298</td>\n",
       "      <td>0.303555</td>\n",
       "    </tr>\n",
       "    <tr>\n",
       "      <th>Fever</th>\n",
       "      <td>177.538462</td>\n",
       "      <td>394.076923</td>\n",
       "      <td>6.803796</td>\n",
       "      <td>0.281702</td>\n",
       "    </tr>\n",
       "    <tr>\n",
       "      <th>Flu</th>\n",
       "      <td>368.537037</td>\n",
       "      <td>300.703704</td>\n",
       "      <td>6.141753</td>\n",
       "      <td>0.250754</td>\n",
       "    </tr>\n",
       "    <tr>\n",
       "      <th>Hypertension</th>\n",
       "      <td>350.771429</td>\n",
       "      <td>391.114286</td>\n",
       "      <td>5.369365</td>\n",
       "      <td>0.319334</td>\n",
       "    </tr>\n",
       "    <tr>\n",
       "      <th>Kidney Failure</th>\n",
       "      <td>453.500000</td>\n",
       "      <td>81.916667</td>\n",
       "      <td>5.943163</td>\n",
       "      <td>0.212259</td>\n",
       "    </tr>\n",
       "    <tr>\n",
       "      <th>Laceration</th>\n",
       "      <td>388.904762</td>\n",
       "      <td>353.476190</td>\n",
       "      <td>6.771154</td>\n",
       "      <td>0.288864</td>\n",
       "    </tr>\n",
       "    <tr>\n",
       "      <th>Pneumonia</th>\n",
       "      <td>467.029851</td>\n",
       "      <td>426.895522</td>\n",
       "      <td>6.140270</td>\n",
       "      <td>0.245878</td>\n",
       "    </tr>\n",
       "    <tr>\n",
       "      <th>Stroke</th>\n",
       "      <td>22.300000</td>\n",
       "      <td>277.150000</td>\n",
       "      <td>7.173333</td>\n",
       "      <td>0.277410</td>\n",
       "    </tr>\n",
       "    <tr>\n",
       "      <th rowspan=\"11\" valign=\"top\">Hospitalist</th>\n",
       "      <th>AMI</th>\n",
       "      <td>146.000000</td>\n",
       "      <td>16.000000</td>\n",
       "      <td>13.828290</td>\n",
       "      <td>0.027476</td>\n",
       "    </tr>\n",
       "    <tr>\n",
       "      <th>Broken Leg</th>\n",
       "      <td>93.333333</td>\n",
       "      <td>518.000000</td>\n",
       "      <td>7.125069</td>\n",
       "      <td>0.142410</td>\n",
       "    </tr>\n",
       "    <tr>\n",
       "      <th>Diabetes</th>\n",
       "      <td>413.384615</td>\n",
       "      <td>375.884615</td>\n",
       "      <td>7.874359</td>\n",
       "      <td>0.261514</td>\n",
       "    </tr>\n",
       "    <tr>\n",
       "      <th>Fever</th>\n",
       "      <td>153.333333</td>\n",
       "      <td>113.000000</td>\n",
       "      <td>8.865651</td>\n",
       "      <td>0.346638</td>\n",
       "    </tr>\n",
       "    <tr>\n",
       "      <th>Flu</th>\n",
       "      <td>239.526316</td>\n",
       "      <td>250.000000</td>\n",
       "      <td>7.033979</td>\n",
       "      <td>0.326773</td>\n",
       "    </tr>\n",
       "    <tr>\n",
       "      <th>Hypertension</th>\n",
       "      <td>152.166667</td>\n",
       "      <td>286.166667</td>\n",
       "      <td>7.864913</td>\n",
       "      <td>0.360348</td>\n",
       "    </tr>\n",
       "    <tr>\n",
       "      <th>Kidney Failure</th>\n",
       "      <td>350.500000</td>\n",
       "      <td>160.333333</td>\n",
       "      <td>7.850346</td>\n",
       "      <td>0.298641</td>\n",
       "    </tr>\n",
       "    <tr>\n",
       "      <th>Knee Replacement</th>\n",
       "      <td>435.000000</td>\n",
       "      <td>22.000000</td>\n",
       "      <td>2.255705</td>\n",
       "      <td>0.763681</td>\n",
       "    </tr>\n",
       "    <tr>\n",
       "      <th>Laceration</th>\n",
       "      <td>317.714286</td>\n",
       "      <td>366.142857</td>\n",
       "      <td>7.069360</td>\n",
       "      <td>0.174050</td>\n",
       "    </tr>\n",
       "    <tr>\n",
       "      <th>Pneumonia</th>\n",
       "      <td>453.607143</td>\n",
       "      <td>357.357143</td>\n",
       "      <td>8.146240</td>\n",
       "      <td>0.404105</td>\n",
       "    </tr>\n",
       "    <tr>\n",
       "      <th>Stroke</th>\n",
       "      <td>252.000000</td>\n",
       "      <td>19.000000</td>\n",
       "      <td>15.349671</td>\n",
       "      <td>0.478003</td>\n",
       "    </tr>\n",
       "    <tr>\n",
       "      <th rowspan=\"11\" valign=\"top\">ICU</th>\n",
       "      <th>AMI</th>\n",
       "      <td>355.400000</td>\n",
       "      <td>256.800000</td>\n",
       "      <td>12.503213</td>\n",
       "      <td>0.469982</td>\n",
       "    </tr>\n",
       "    <tr>\n",
       "      <th>Afib</th>\n",
       "      <td>401.000000</td>\n",
       "      <td>169.000000</td>\n",
       "      <td>9.651522</td>\n",
       "      <td>0.082023</td>\n",
       "    </tr>\n",
       "    <tr>\n",
       "      <th>Fever</th>\n",
       "      <td>364.000000</td>\n",
       "      <td>141.666667</td>\n",
       "      <td>3.860693</td>\n",
       "      <td>0.311127</td>\n",
       "    </tr>\n",
       "    <tr>\n",
       "      <th>Flu</th>\n",
       "      <td>376.666667</td>\n",
       "      <td>152.666667</td>\n",
       "      <td>4.953871</td>\n",
       "      <td>0.197262</td>\n",
       "    </tr>\n",
       "    <tr>\n",
       "      <th>Heart Failure</th>\n",
       "      <td>480.515152</td>\n",
       "      <td>391.818182</td>\n",
       "      <td>12.784620</td>\n",
       "      <td>0.495353</td>\n",
       "    </tr>\n",
       "    <tr>\n",
       "      <th>Hypertension</th>\n",
       "      <td>286.250000</td>\n",
       "      <td>131.750000</td>\n",
       "      <td>5.092533</td>\n",
       "      <td>0.167593</td>\n",
       "    </tr>\n",
       "    <tr>\n",
       "      <th>Kidney Failure</th>\n",
       "      <td>403.000000</td>\n",
       "      <td>196.000000</td>\n",
       "      <td>9.045995</td>\n",
       "      <td>0.039002</td>\n",
       "    </tr>\n",
       "    <tr>\n",
       "      <th>Laceration</th>\n",
       "      <td>353.000000</td>\n",
       "      <td>650.000000</td>\n",
       "      <td>10.101443</td>\n",
       "      <td>0.633145</td>\n",
       "    </tr>\n",
       "    <tr>\n",
       "      <th>Pneumonia</th>\n",
       "      <td>340.779221</td>\n",
       "      <td>394.831169</td>\n",
       "      <td>13.523626</td>\n",
       "      <td>0.473966</td>\n",
       "    </tr>\n",
       "    <tr>\n",
       "      <th>Spinal Cord Injury</th>\n",
       "      <td>368.500000</td>\n",
       "      <td>188.000000</td>\n",
       "      <td>15.276540</td>\n",
       "      <td>0.200279</td>\n",
       "    </tr>\n",
       "    <tr>\n",
       "      <th>Stroke</th>\n",
       "      <td>282.000000</td>\n",
       "      <td>273.476190</td>\n",
       "      <td>13.297978</td>\n",
       "      <td>0.500319</td>\n",
       "    </tr>\n",
       "    <tr>\n",
       "      <th rowspan=\"8\" valign=\"top\">Neurology</th>\n",
       "      <th>AMI</th>\n",
       "      <td>186.000000</td>\n",
       "      <td>519.500000</td>\n",
       "      <td>10.482847</td>\n",
       "      <td>0.010838</td>\n",
       "    </tr>\n",
       "    <tr>\n",
       "      <th>Flu</th>\n",
       "      <td>238.500000</td>\n",
       "      <td>508.000000</td>\n",
       "      <td>6.700593</td>\n",
       "      <td>0.524486</td>\n",
       "    </tr>\n",
       "    <tr>\n",
       "      <th>Heart Failure</th>\n",
       "      <td>274.833333</td>\n",
       "      <td>526.666667</td>\n",
       "      <td>12.737565</td>\n",
       "      <td>0.443940</td>\n",
       "    </tr>\n",
       "    <tr>\n",
       "      <th>Hypertension</th>\n",
       "      <td>290.000000</td>\n",
       "      <td>489.800000</td>\n",
       "      <td>4.276454</td>\n",
       "      <td>0.163727</td>\n",
       "    </tr>\n",
       "    <tr>\n",
       "      <th>Migraine</th>\n",
       "      <td>514.500000</td>\n",
       "      <td>492.416667</td>\n",
       "      <td>12.202213</td>\n",
       "      <td>0.567372</td>\n",
       "    </tr>\n",
       "    <tr>\n",
       "      <th>Pain</th>\n",
       "      <td>659.428571</td>\n",
       "      <td>391.571429</td>\n",
       "      <td>11.441453</td>\n",
       "      <td>0.548264</td>\n",
       "    </tr>\n",
       "    <tr>\n",
       "      <th>Pneumonia</th>\n",
       "      <td>184.800000</td>\n",
       "      <td>500.600000</td>\n",
       "      <td>7.527330</td>\n",
       "      <td>0.404636</td>\n",
       "    </tr>\n",
       "    <tr>\n",
       "      <th>Stroke</th>\n",
       "      <td>205.846154</td>\n",
       "      <td>312.884615</td>\n",
       "      <td>12.745608</td>\n",
       "      <td>0.521251</td>\n",
       "    </tr>\n",
       "    <tr>\n",
       "      <th rowspan=\"2\" valign=\"top\">Orthopeadics</th>\n",
       "      <th>Hip Fracture</th>\n",
       "      <td>180.000000</td>\n",
       "      <td>348.956522</td>\n",
       "      <td>3.474971</td>\n",
       "      <td>0.373310</td>\n",
       "    </tr>\n",
       "    <tr>\n",
       "      <th>Knee Replacement</th>\n",
       "      <td>529.090909</td>\n",
       "      <td>400.818182</td>\n",
       "      <td>3.702839</td>\n",
       "      <td>0.268871</td>\n",
       "    </tr>\n",
       "  </tbody>\n",
       "</table>\n",
       "</div>"
      ],
      "text/plain": [
       "                                     AdmissionID   PatientID  ExpectedLOS  \\\n",
       "Service          PrimaryDiagnosis                                           \n",
       "Cardiology       AMI                  253.125000  388.900000    12.414202   \n",
       "                 Afib                 366.500000  264.300000    13.162920   \n",
       "                 Broken Leg           258.000000  104.000000     3.911826   \n",
       "                 Flu                  395.500000  112.000000     3.970428   \n",
       "                 Heart Failure        499.846154  403.051282    13.014044   \n",
       "                 Kidney Failure       152.000000  101.000000     6.580273   \n",
       "General Medicine Broken Leg           550.000000  651.666667     3.368132   \n",
       "                 Diabetes             431.921053  548.578947     5.665298   \n",
       "                 Fever                177.538462  394.076923     6.803796   \n",
       "                 Flu                  368.537037  300.703704     6.141753   \n",
       "                 Hypertension         350.771429  391.114286     5.369365   \n",
       "                 Kidney Failure       453.500000   81.916667     5.943163   \n",
       "                 Laceration           388.904762  353.476190     6.771154   \n",
       "                 Pneumonia            467.029851  426.895522     6.140270   \n",
       "                 Stroke                22.300000  277.150000     7.173333   \n",
       "Hospitalist      AMI                  146.000000   16.000000    13.828290   \n",
       "                 Broken Leg            93.333333  518.000000     7.125069   \n",
       "                 Diabetes             413.384615  375.884615     7.874359   \n",
       "                 Fever                153.333333  113.000000     8.865651   \n",
       "                 Flu                  239.526316  250.000000     7.033979   \n",
       "                 Hypertension         152.166667  286.166667     7.864913   \n",
       "                 Kidney Failure       350.500000  160.333333     7.850346   \n",
       "                 Knee Replacement     435.000000   22.000000     2.255705   \n",
       "                 Laceration           317.714286  366.142857     7.069360   \n",
       "                 Pneumonia            453.607143  357.357143     8.146240   \n",
       "                 Stroke               252.000000   19.000000    15.349671   \n",
       "ICU              AMI                  355.400000  256.800000    12.503213   \n",
       "                 Afib                 401.000000  169.000000     9.651522   \n",
       "                 Fever                364.000000  141.666667     3.860693   \n",
       "                 Flu                  376.666667  152.666667     4.953871   \n",
       "                 Heart Failure        480.515152  391.818182    12.784620   \n",
       "                 Hypertension         286.250000  131.750000     5.092533   \n",
       "                 Kidney Failure       403.000000  196.000000     9.045995   \n",
       "                 Laceration           353.000000  650.000000    10.101443   \n",
       "                 Pneumonia            340.779221  394.831169    13.523626   \n",
       "                 Spinal Cord Injury   368.500000  188.000000    15.276540   \n",
       "                 Stroke               282.000000  273.476190    13.297978   \n",
       "Neurology        AMI                  186.000000  519.500000    10.482847   \n",
       "                 Flu                  238.500000  508.000000     6.700593   \n",
       "                 Heart Failure        274.833333  526.666667    12.737565   \n",
       "                 Hypertension         290.000000  489.800000     4.276454   \n",
       "                 Migraine             514.500000  492.416667    12.202213   \n",
       "                 Pain                 659.428571  391.571429    11.441453   \n",
       "                 Pneumonia            184.800000  500.600000     7.527330   \n",
       "                 Stroke               205.846154  312.884615    12.745608   \n",
       "Orthopeadics     Hip Fracture         180.000000  348.956522     3.474971   \n",
       "                 Knee Replacement     529.090909  400.818182     3.702839   \n",
       "\n",
       "                                     ExpectedMortality  \n",
       "Service          PrimaryDiagnosis                       \n",
       "Cardiology       AMI                          0.222199  \n",
       "                 Afib                         0.326457  \n",
       "                 Broken Leg                   0.391856  \n",
       "                 Flu                          0.223949  \n",
       "                 Heart Failure                0.283912  \n",
       "                 Kidney Failure               0.573887  \n",
       "General Medicine Broken Leg                   0.292053  \n",
       "                 Diabetes                     0.303555  \n",
       "                 Fever                        0.281702  \n",
       "                 Flu                          0.250754  \n",
       "                 Hypertension                 0.319334  \n",
       "                 Kidney Failure               0.212259  \n",
       "                 Laceration                   0.288864  \n",
       "                 Pneumonia                    0.245878  \n",
       "                 Stroke                       0.277410  \n",
       "Hospitalist      AMI                          0.027476  \n",
       "                 Broken Leg                   0.142410  \n",
       "                 Diabetes                     0.261514  \n",
       "                 Fever                        0.346638  \n",
       "                 Flu                          0.326773  \n",
       "                 Hypertension                 0.360348  \n",
       "                 Kidney Failure               0.298641  \n",
       "                 Knee Replacement             0.763681  \n",
       "                 Laceration                   0.174050  \n",
       "                 Pneumonia                    0.404105  \n",
       "                 Stroke                       0.478003  \n",
       "ICU              AMI                          0.469982  \n",
       "                 Afib                         0.082023  \n",
       "                 Fever                        0.311127  \n",
       "                 Flu                          0.197262  \n",
       "                 Heart Failure                0.495353  \n",
       "                 Hypertension                 0.167593  \n",
       "                 Kidney Failure               0.039002  \n",
       "                 Laceration                   0.633145  \n",
       "                 Pneumonia                    0.473966  \n",
       "                 Spinal Cord Injury           0.200279  \n",
       "                 Stroke                       0.500319  \n",
       "Neurology        AMI                          0.010838  \n",
       "                 Flu                          0.524486  \n",
       "                 Heart Failure                0.443940  \n",
       "                 Hypertension                 0.163727  \n",
       "                 Migraine                     0.567372  \n",
       "                 Pain                         0.548264  \n",
       "                 Pneumonia                    0.404636  \n",
       "                 Stroke                       0.521251  \n",
       "Orthopeadics     Hip Fracture                 0.373310  \n",
       "                 Knee Replacement             0.268871  "
      ]
     },
     "execution_count": 22,
     "metadata": {},
     "output_type": "execute_result"
    }
   ],
   "source": [
    "df.groupby(['Service', 'PrimaryDiagnosis']).mean()"
   ]
  },
  {
   "cell_type": "markdown",
   "id": "e9c5372e",
   "metadata": {},
   "source": [
    "# 15.) Bar Plot for Visit Type and visit status\n"
   ]
  },
  {
   "cell_type": "code",
   "execution_count": 46,
   "id": "8dd5a24c",
   "metadata": {},
   "outputs": [
    {
     "data": {
      "image/png": "[encoded data removed]",
      "text/plain": [
       "<Figure size 640x480 with 1 Axes>"
      ]
     },
     "metadata": {},
     "output_type": "display_data"
    }
   ],
   "source": [
    "\n",
    "\n",
    "data1 = pd.read_excel('HospitalDatabase.xlsx', \"AmbulatoryVisits\")\n",
    "\n",
    "data1[\"VisitType\"] = pd.Categorical(data1[\"VisitType\"])\n",
    "sb.countplot(x=\"VisitType\",  hue=\"VisitStatus\",data=data1)\n",
    "\n",
    "\n",
    "plt.ylabel(\"values\")\n",
    "plt.title(\"Count of Observations by Visit Type and Visit Status\")\n",
    "\n",
    "\n",
    "plt.show()\n"
   ]
  },
  {
   "cell_type": "markdown",
   "id": "e271103b",
   "metadata": {},
   "source": [
    "# 16.) Scatter plot showing the relationship between the number of days until readmission (DaysToReadmission) and the expected mortality of the patient "
   ]
  },
  {
   "cell_type": "code",
   "execution_count": 62,
   "id": "395b6193",
   "metadata": {},
   "outputs": [
    {
     "data": {
      "image/png": "[encoded data removed]",
      "text/plain": [
       "<Figure size 640x480 with 1 Axes>"
      ]
     },
     "metadata": {},
     "output_type": "display_data"
    }
   ],
   "source": [
    "\n",
    "sb.scatterplot(x=\"DaysToReadmission\", y=\"ExpectedMortality\", data=df)\n",
    "\n",
    "\n",
    "plt.show()"
   ]
  },
  {
   "cell_type": "markdown",
   "id": "ebd077db",
   "metadata": {},
   "source": [
    "# 17.) Average Length of stay by Discharge Disposition"
   ]
  },
  {
   "cell_type": "code",
   "execution_count": 7,
   "id": "eada242a",
   "metadata": {},
   "outputs": [
    {
     "data": {
      "image/png": "[encoded data removed]",
      "text/plain": [
       "<Figure size 640x480 with 1 Axes>"
      ]
     },
     "metadata": {},
     "output_type": "display_data"
    }
   ],
   "source": [
    "data1 = pd.read_excel('HospitalDatabase.xlsx', \"ReAdmissionRegistry\")\n",
    "\n",
    "data1[\"Length of Stay\"]=(data1[\"DischargeDate\"] - data1[\"AdmissionDate\"])/  np.timedelta64(1, 'D')\n",
    "data1[\"Length of Stay\"].mean()\n",
    "sb.barplot(x=\"DischargeDisposition\", y=\"Length of Stay\", data=data1)\n",
    "\n",
    "\n",
    "plt.show()"
   ]
  },
  {
   "cell_type": "markdown",
   "id": "f934d6e9",
   "metadata": {},
   "source": [
    "# 18.) High number of cases in Service by Primary Diagnosis"
   ]
  },
  {
   "cell_type": "code",
   "execution_count": 16,
   "id": "5073cf75",
   "metadata": {},
   "outputs": [
    {
     "data": {
      "image/png": "[encoded data removed]",
      "text/plain": [
       "<Figure size 640x480 with 2 Axes>"
      ]
     },
     "metadata": {},
     "output_type": "display_data"
    }
   ],
   "source": [
    "data1 = pd.read_excel('HospitalDatabase.xlsx', \"Discharges\")\n",
    "\n",
    "\n",
    "\n",
    "pivot_table = data1.pivot_table(index='PrimaryDiagnosis', columns='Service', values='PatientID',aggfunc='count')\n",
    "\n",
    "sb.heatmap(pivot_table, cmap='Reds')\n",
    "\n",
    "\n",
    "plt.show()"
   ]
  },
  {
   "cell_type": "code",
   "execution_count": null,
   "id": "c75b5671",
   "metadata": {},
   "outputs": [],
   "source": []
  }
 ],
 "metadata": {
  "kernelspec": {
   "display_name": "Python 3 (ipykernel)",
   "language": "python",
   "name": "python3"
  },
  "language_info": {
   "codemirror_mode": {
    "name": "ipython",
    "version": 3
   },
   "file_extension": ".py",
   "mimetype": "text/x-python",
   "name": "python",
   "nbconvert_exporter": "python",
   "pygments_lexer": "ipython3",
   "version": "3.9.13"
  }
 },
 "nbformat": 4,
 "nbformat_minor": 5
}
