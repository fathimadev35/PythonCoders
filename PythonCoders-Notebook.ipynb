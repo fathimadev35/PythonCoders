{
 "cells": [
  {
   "cell_type": "code",
   "execution_count": 2,
   "id": "5a0422d4",
   "metadata": {},
   "outputs": [],
   "source": [
    "import pandas as pd\n",
    "import numpy as np"
   ]
  },
  {
   "cell_type": "code",
   "execution_count": 8,
   "id": "00a4b961",
   "metadata": {},
   "outputs": [],
   "source": [
    "db_EDuniq = pd.read_excel(\"HospitalDatabase.xlsx\",sheet_name=\"EDUnique\")"
   ]
  },
  {
   "cell_type": "code",
   "execution_count": 9,
   "id": "19bb6afc",
   "metadata": {},
   "outputs": [
    {
     "data": {
      "text/html": [
       "<div>\n",
       "<style scoped>\n",
       "    .dataframe tbody tr th:only-of-type {\n",
       "        vertical-align: middle;\n",
       "    }\n",
       "\n",
       "    .dataframe tbody tr th {\n",
       "        vertical-align: top;\n",
       "    }\n",
       "\n",
       "    .dataframe thead th {\n",
       "        text-align: right;\n",
       "    }\n",
       "</style>\n",
       "<table border=\"1\" class=\"dataframe\">\n",
       "  <thead>\n",
       "    <tr style=\"text-align: right;\">\n",
       "      <th></th>\n",
       "      <th></th>\n",
       "      <th>PatientID</th>\n",
       "    </tr>\n",
       "    <tr>\n",
       "      <th>Acuity</th>\n",
       "      <th>EDDisposition</th>\n",
       "      <th></th>\n",
       "    </tr>\n",
       "  </thead>\n",
       "  <tbody>\n",
       "    <tr>\n",
       "      <th rowspan=\"4\" valign=\"top\">1</th>\n",
       "      <th>Admitted</th>\n",
       "      <td>16</td>\n",
       "    </tr>\n",
       "    <tr>\n",
       "      <th>Discharged</th>\n",
       "      <td>141</td>\n",
       "    </tr>\n",
       "    <tr>\n",
       "      <th>admitted</th>\n",
       "      <td>13</td>\n",
       "    </tr>\n",
       "    <tr>\n",
       "      <th>discharged</th>\n",
       "      <td>257</td>\n",
       "    </tr>\n",
       "    <tr>\n",
       "      <th rowspan=\"3\" valign=\"top\">2</th>\n",
       "      <th>Admitted</th>\n",
       "      <td>39</td>\n",
       "    </tr>\n",
       "    <tr>\n",
       "      <th>Discharged</th>\n",
       "      <td>41</td>\n",
       "    </tr>\n",
       "    <tr>\n",
       "      <th>admitted</th>\n",
       "      <td>63</td>\n",
       "    </tr>\n",
       "    <tr>\n",
       "      <th rowspan=\"2\" valign=\"top\">3</th>\n",
       "      <th>Admitted</th>\n",
       "      <td>52</td>\n",
       "    </tr>\n",
       "    <tr>\n",
       "      <th>admitted</th>\n",
       "      <td>18</td>\n",
       "    </tr>\n",
       "    <tr>\n",
       "      <th rowspan=\"4\" valign=\"top\">4</th>\n",
       "      <th>Admitted</th>\n",
       "      <td>41</td>\n",
       "    </tr>\n",
       "    <tr>\n",
       "      <th>Discharged</th>\n",
       "      <td>11</td>\n",
       "    </tr>\n",
       "    <tr>\n",
       "      <th>admitted</th>\n",
       "      <td>56</td>\n",
       "    </tr>\n",
       "    <tr>\n",
       "      <th>discharged</th>\n",
       "      <td>11</td>\n",
       "    </tr>\n",
       "    <tr>\n",
       "      <th rowspan=\"4\" valign=\"top\">5</th>\n",
       "      <th>Admitted</th>\n",
       "      <td>54</td>\n",
       "    </tr>\n",
       "    <tr>\n",
       "      <th>Discharged</th>\n",
       "      <td>12</td>\n",
       "    </tr>\n",
       "    <tr>\n",
       "      <th>admitted</th>\n",
       "      <td>108</td>\n",
       "    </tr>\n",
       "    <tr>\n",
       "      <th>discharged</th>\n",
       "      <td>12</td>\n",
       "    </tr>\n",
       "  </tbody>\n",
       "</table>\n",
       "</div>"
      ],
      "text/plain": [
       "                      PatientID\n",
       "Acuity EDDisposition           \n",
       "1      Admitted              16\n",
       "       Discharged           141\n",
       "       admitted              13\n",
       "       discharged           257\n",
       "2      Admitted              39\n",
       "       Discharged            41\n",
       "       admitted              63\n",
       "3      Admitted              52\n",
       "       admitted              18\n",
       "4      Admitted              41\n",
       "       Discharged            11\n",
       "       admitted              56\n",
       "       discharged            11\n",
       "5      Admitted              54\n",
       "       Discharged            12\n",
       "       admitted             108\n",
       "       discharged            12"
      ]
     },
     "execution_count": 9,
     "metadata": {},
     "output_type": "execute_result"
    }
   ],
   "source": [
    "#22.Dataframe with acuity and EDDisposition as the indices and count of number of patients as value\n",
    "db_EDuniq.groupby([\"Acuity\",\"EDDisposition\"]).agg({'PatientID':'count'})"
   ]
  },
  {
   "cell_type": "markdown",
   "id": "9181819e",
   "metadata": {},
   "source": [
    "# 41.)Find the visit type with maximum 'No Show'."
   ]
  },
  {
   "cell_type": "code",
   "execution_count": 10,
   "id": "4eae8abb",
   "metadata": {},
   "outputs": [],
   "source": [
    "df = pd.read_excel(\"HospitalDatabase.xlsx\",\"AmbulatoryVisits\")"
   ]
  },
  {
   "cell_type": "code",
   "execution_count": 11,
   "id": "2d17e6c4",
   "metadata": {},
   "outputs": [
    {
     "name": "stdout",
     "output_type": "stream",
     "text": [
      "VisitType\n",
      "Follow Up       41\n",
      "New              0\n",
      "Physical        39\n",
      "Telemedicine    74\n",
      "dtype: int64\n"
     ]
    }
   ],
   "source": [
    "group_df = df.groupby('VisitType')\n",
    "\n",
    "\n",
    "def count_no_show(group):\n",
    "    return sum(group['VisitStatus'] == 'No Show')\n",
    "\n",
    "no_show_counts = group_df.apply(count_no_show)\n",
    "print(no_show_counts)  "
   ]
  },
  {
   "cell_type": "markdown",
   "id": "93708273",
   "metadata": {},
   "source": [
    "#  42.)Using loc , get the details of the providers where providerId is between 11 and 20 and ProviderSpecialty is Surgery."
   ]
  },
  {
   "cell_type": "code",
   "execution_count": 12,
   "id": "d7766215",
   "metadata": {},
   "outputs": [
    {
     "data": {
      "text/html": [
       "<div>\n",
       "<style scoped>\n",
       "    .dataframe tbody tr th:only-of-type {\n",
       "        vertical-align: middle;\n",
       "    }\n",
       "\n",
       "    .dataframe tbody tr th {\n",
       "        vertical-align: top;\n",
       "    }\n",
       "\n",
       "    .dataframe thead th {\n",
       "        text-align: right;\n",
       "    }\n",
       "</style>\n",
       "<table border=\"1\" class=\"dataframe\">\n",
       "  <thead>\n",
       "    <tr style=\"text-align: right;\">\n",
       "      <th></th>\n",
       "      <th>ProviderID</th>\n",
       "      <th>ProviderName</th>\n",
       "      <th>ProviderSpecialty</th>\n",
       "      <th>ProviderDateOnStaff</th>\n",
       "    </tr>\n",
       "  </thead>\n",
       "  <tbody>\n",
       "    <tr>\n",
       "      <th>10</th>\n",
       "      <td>11</td>\n",
       "      <td>Kim Kimberly</td>\n",
       "      <td>Surgery</td>\n",
       "      <td>1998-05-10 14:47:29.468</td>\n",
       "    </tr>\n",
       "    <tr>\n",
       "      <th>11</th>\n",
       "      <td>12</td>\n",
       "      <td>Sarah Ab</td>\n",
       "      <td>Surgery</td>\n",
       "      <td>1998-08-18 05:22:40.762</td>\n",
       "    </tr>\n",
       "    <tr>\n",
       "      <th>12</th>\n",
       "      <td>13</td>\n",
       "      <td>Abigail Marriot</td>\n",
       "      <td>Surgery</td>\n",
       "      <td>1998-11-08 12:25:45.705</td>\n",
       "    </tr>\n",
       "    <tr>\n",
       "      <th>13</th>\n",
       "      <td>14</td>\n",
       "      <td>Dave Yu</td>\n",
       "      <td>Surgery</td>\n",
       "      <td>1999-06-26 16:18:57.436</td>\n",
       "    </tr>\n",
       "    <tr>\n",
       "      <th>14</th>\n",
       "      <td>15</td>\n",
       "      <td>Christian Saint</td>\n",
       "      <td>Surgery</td>\n",
       "      <td>2000-08-27 00:12:40.326</td>\n",
       "    </tr>\n",
       "    <tr>\n",
       "      <th>15</th>\n",
       "      <td>16</td>\n",
       "      <td>Perry Pardon</td>\n",
       "      <td>Surgery</td>\n",
       "      <td>2001-02-13 11:49:17.862</td>\n",
       "    </tr>\n",
       "  </tbody>\n",
       "</table>\n",
       "</div>"
      ],
      "text/plain": [
       "    ProviderID     ProviderName ProviderSpecialty     ProviderDateOnStaff\n",
       "10          11     Kim Kimberly           Surgery 1998-05-10 14:47:29.468\n",
       "11          12         Sarah Ab           Surgery 1998-08-18 05:22:40.762\n",
       "12          13  Abigail Marriot           Surgery 1998-11-08 12:25:45.705\n",
       "13          14          Dave Yu           Surgery 1999-06-26 16:18:57.436\n",
       "14          15  Christian Saint           Surgery 2000-08-27 00:12:40.326\n",
       "15          16     Perry Pardon           Surgery 2001-02-13 11:49:17.862"
      ]
     },
     "execution_count": 12,
     "metadata": {},
     "output_type": "execute_result"
    }
   ],
   "source": [
    "df = pd.read_excel(\"HospitalDatabase.xlsx\",\"Providers\")\n",
    "\n",
    "Surgery_Providers = df.loc[(df['ProviderID'] >= 11) & (df['ProviderID'] <= 20) & (df['ProviderSpecialty'] == 'Surgery')]\n",
    "\n",
    "Surgery_Providers"
   ]
  },
  {
   "cell_type": "markdown",
   "id": "5be4b60e",
   "metadata": {},
   "source": [
    "# 43.) In question 34(np.arange(1,31).reshape(6,5) Find the array slicing to get the elements with values 11,12,16,17.), when the value is less than 6, print as -1,else print 99."
   ]
  },
  {
   "cell_type": "code",
   "execution_count": 3,
   "id": "4fc19d3f",
   "metadata": {},
   "outputs": [
    {
     "data": {
      "text/plain": [
       "array([[11, 12],\n",
       "       [16, 17]])"
      ]
     },
     "execution_count": 3,
     "metadata": {},
     "output_type": "execute_result"
    }
   ],
   "source": [
    "Ranges=np.arange(1,31).reshape(6,5)\n",
    "\n",
    "new_Ranges=Ranges[2:4,0:2]\n",
    "new_Ranges"
   ]
  },
  {
   "cell_type": "code",
   "execution_count": 4,
   "id": "83f503e0",
   "metadata": {},
   "outputs": [
    {
     "name": "stdout",
     "output_type": "stream",
     "text": [
      "99\n",
      "99\n",
      "99\n",
      "99\n"
     ]
    }
   ],
   "source": [
    "for x in new_Ranges:\n",
    "    for y in x:\n",
    "        if (y < 6):\n",
    "            print('-1')\n",
    "        else:\n",
    "            print('99')"
   ]
  },
  {
   "cell_type": "code",
   "execution_count": null,
   "id": "e3360781",
   "metadata": {},
   "outputs": [],
   "source": []
  }
 ],
 "metadata": {
  "kernelspec": {
   "display_name": "Python 3 (ipykernel)",
   "language": "python",
   "name": "python3"
  },
  "language_info": {
   "codemirror_mode": {
    "name": "ipython",
    "version": 3
   },
   "file_extension": ".py",
   "mimetype": "text/x-python",
   "name": "python",
   "nbconvert_exporter": "python",
   "pygments_lexer": "ipython3",
   "version": "3.9.13"
  },
  "vscode": {
   "interpreter": {
    "hash": "cb63d5fca3b6321beddab004c6c18d6eadf3865cdfe9a95d78f4ff94230027fc"
   }
  }
 },
 "nbformat": 4,
 "nbformat_minor": 5
}
